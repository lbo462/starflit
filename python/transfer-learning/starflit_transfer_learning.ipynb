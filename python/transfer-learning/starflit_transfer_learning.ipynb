{
 "cells": [
  {
   "cell_type": "markdown",
   "metadata": {},
   "source": [
    "# Starflit's transfer learning\n",
    "\n",
    "Welcome to the Starflit's transfer learning notebook!\n",
    "\n",
    "> Before diving into this, you're highly encouraged to take a look at the documentation about transfer learning on GitHub.\n",
    "\n",
    "This notebook was highly inspired by the [documentation from Keras](https://keras.io/guides/transfer_learning/).\n",
    "\n",
    "As said is the documentation, transfer learning are performed is two steps:\n",
    "- _feature extraction_, that will output a model that we'll call __tuned__;\n",
    "- _fine-tuning_, that will output a model that we'll call __fine-tuned__;"
   ]
  },
  {
   "cell_type": "markdown",
   "metadata": {},
   "source": [
    "## Creating and importing a dataset\n",
    "\n",
    "This part, was probably the most difficult one, unexpectedly.\n",
    "\n",
    "As transfer learning is really nicely documented, the creation and the import of a dataset is not.\n",
    "We tried several approach, like using HuggingFace, but most of these approach failed.\n",
    "\n",
    "You'll surely find a bit more details about this in the documentation about transfer learning on GitHub.\n",
    "\n",
    "What we finally came up with was to import our dataset locally in a folder `dataset/` having the following structure:\n",
    "\n",
    "```\n",
    "dataset/\n",
    "    class1/\n",
    "        image1.JPG\n",
    "        image2.JPG\n",
    "        ...\n",
    "    class2/\n",
    "        image1.JPG\n",
    "        image2.JPG\n",
    "        ...\n",
    "    ...\n",
    "```"
   ]
  },
  {
   "cell_type": "markdown",
   "metadata": {},
   "source": [
    "### Import the dataset\n",
    "\n",
    "Now, one have to import this dataset.\n",
    "\n",
    "__If you're trying to run this notebook on Google Colab__,\n",
    "you'll need to mount your personal drive and change the current directory.\n",
    "\n",
    "> This implies that you've uploaded your dataset to your personal drive.\n",
    "\n",
    "In the following codeblock, edit the path to match the path to your dataset.\n",
    "You can check the files structures by clicking files and searching for the folder named content at the root of the file system.\n",
    "Here, I placed my dataset in a folder named Colab Notebooks :"
   ]
  },
  {
   "cell_type": "code",
   "execution_count": null,
   "metadata": {},
   "outputs": [],
   "source": [
    "import os\n",
    "from google.colab import drive\n",
    "\n",
    "drive.mount('/content/drive')\n",
    "os.chdir('/content/drive/MyDrive/Colab Notebooks/LeavesDataset')"
   ]
  },
  {
   "cell_type": "markdown",
   "metadata": {},
   "source": [
    "## Dependencies\n",
    "\n",
    "We're working in a notebook here, so we don't have to bother with virtual environment.\n",
    "\n",
    "This also means that we don't have a clear list of dependencies such as `requirements.txt`.\n",
    "\n",
    "Hence, we install the dependencies as such:"
   ]
  },
  {
   "cell_type": "code",
   "execution_count": null,
   "metadata": {},
   "outputs": [],
   "source": [
    "!pip install tensorflow"
   ]
  },
  {
   "cell_type": "markdown",
   "metadata": {},
   "source": [
    "Do not hesitate to edit the list of dependencies.\n",
    "\n",
    "And just for the record, we output here the list of dependencies, so one know what version we installed:"
   ]
  },
  {
   "cell_type": "code",
   "execution_count": null,
   "metadata": {},
   "outputs": [],
   "source": [
    "!pip freeze"
   ]
  },
  {
   "cell_type": "markdown",
   "metadata": {},
   "source": [
    "And we import all we need here:"
   ]
  },
  {
   "cell_type": "code",
   "execution_count": null,
   "metadata": {},
   "outputs": [],
   "source": [
    "from tensorflow.keras.preprocessing.image import ImageDataGenerator\n",
    "from tensorflow.keras.applications import MobileNetV3Large\n",
    "from tensorflow.keras.layers import Dense, GlobalAveragePooling2D\n",
    "from tensorflow.keras.models import Model\n",
    "from tensorflow.keras.optimizers import Adam\n",
    "from tensorflow.keras.callbacks import EarlyStopping, ModelCheckpoint\n",
    "\n",
    "import matplotlib.pyplot as plt"
   ]
  },
  {
   "cell_type": "markdown",
   "metadata": {},
   "source": [
    "## Feature extraction\n",
    "\n",
    "Feature extraction is the first step of transfer learning.\n",
    "\n",
    "Here, we'll preprocess our images and split them into different splits."
   ]
  },
  {
   "cell_type": "code",
   "execution_count": null,
   "metadata": {
    "colab": {
     "base_uri": "https://localhost:8080/"
    },
    "id": "2qsi1M0zEdby",
    "outputId": "b3051012-8dab-42c5-fd7f-df1e28dde781"
   },
   "outputs": [],
   "source": [
    "# Preprocessing and data augmentation\n",
    "train_datagen = ImageDataGenerator(\n",
    "    rescale=1./255,\n",
    "    rotation_range=40,\n",
    "    width_shift_range=0.2,\n",
    "    height_shift_range=0.2,\n",
    "    shear_range=0.2,\n",
    "    zoom_range=0.2,\n",
    "    horizontal_flip=True,\n",
    "    fill_mode='nearest',\n",
    "    validation_split=0.001  # Keep only a part of the dataset, represented as a percent (between 0 and 1)\n",
    ")\n",
    "\n",
    "# Extract train dataset\n",
    "train_generator = train_datagen.flow_from_directory(\n",
    "    './',\n",
    "    target_size=(224, 224),\n",
    "    batch_size=32,\n",
    "    class_mode='binary',\n",
    "    subset='training'\n",
    ")\n",
    "\n",
    "# Extract validation dataset\n",
    "validation_generator = train_datagen.flow_from_directory(\n",
    "    './',\n",
    "    target_size=(224, 224),\n",
    "    batch_size=32,\n",
    "    class_mode='binary',\n",
    "    subset='validation'\n",
    ")"
   ]
  },
  {
   "cell_type": "markdown",
   "metadata": {},
   "source": [
    "Now, we have two splits, data augmented.\n",
    "\n",
    "Our next objective is to load the model we have to train and add some layers."
   ]
  },
  {
   "cell_type": "code",
   "execution_count": null,
   "metadata": {
    "id": "svRP2HdjEodx"
   },
   "outputs": [],
   "source": [
    "# Load the MobileNetV3Large model with the imagenet weights as initial weights\n",
    "base_model = MobileNetV3Large(weights='imagenet', include_top=False, input_shape=(224, 224, 3))\n",
    "\n",
    "# Now, we add our custom layers\n",
    "x = base_model.output\n",
    "x = GlobalAveragePooling2D()(x)\n",
    "x = Dense(1024, activation='relu')(x)\n",
    "predictions = Dense(1, activation='sigmoid')(x)\n",
    "model = Model(inputs=base_model.input, outputs=predictions)"
   ]
  },
  {
   "cell_type": "markdown",
   "metadata": {},
   "source": [
    "> Note that `include_top=False` means that we're not including the classification layer of the base model.\n",
    "> That's exactly what allows us to have our customs classes as output.\n",
    "\n",
    "As described in the Keras documentation, one have to freeze all the layers of the base model (but not the layers we just added).\n",
    "\n",
    "When performing feature extraction, we only train the layers we added !"
   ]
  },
  {
   "cell_type": "code",
   "execution_count": null,
   "metadata": {},
   "outputs": [],
   "source": [
    "# Freeze the base model\n",
    "for layer in base_model.layers:\n",
    "    layer.trainable = False\n",
    "\n",
    "# Compile the model to take the freeze into account\n",
    "model.compile(optimizer=Adam(), loss='binary_crossentropy', metrics=['accuracy'])"
   ]
  },
  {
   "cell_type": "markdown",
   "metadata": {},
   "source": [
    "Now, we prepare an early stopping, so that the training will stop if no improvement is to occur between three consecutive epochs.\n",
    "\n",
    "We also prepare a model checkpoint callback so that we will be able to continue our training even the execution stops randomly."
   ]
  },
  {
   "cell_type": "code",
   "execution_count": null,
   "metadata": {},
   "outputs": [],
   "source": [
    "early_stopping = EarlyStopping(monitor=\"loss\", patience=3)\n",
    "model_checkpoint = ModelCheckpoint(\n",
    "    filepath='checkpoint.h5',\n",
    "    monitor='val_accuracy',\n",
    "    mode='max',\n",
    "    save_best_only=True\n",
    ")"
   ]
  },
  {
   "cell_type": "markdown",
   "metadata": {},
   "source": [
    "And now is the time we actually train the model.\n",
    "\n",
    "The following codeblock will probably last for long, and that's why we have trouble running this notebook where we want :'("
   ]
  },
  {
   "cell_type": "code",
   "execution_count": null,
   "metadata": {
    "colab": {
     "base_uri": "https://localhost:8080/"
    },
    "id": "Rtcr61eVEtm-",
    "outputId": "7e70ef61-82d5-41f4-993f-90bcc5bb87b1"
   },
   "outputs": [],
   "source": [
    "history = model.fit(\n",
    "    train_generator,\n",
    "    epochs=1000,\n",
    "    validation_data=validation_generator,\n",
    "    callbacks=[early_stopping, model_checkpoint]\n",
    ")"
   ]
  },
  {
   "cell_type": "markdown",
   "metadata": {},
   "source": [
    "And now, we have our trained model, tuned to our dataset.\n",
    "Feature extraction is over, and we'll proceed to _fine-tuning_ is few seconds,\n",
    "just after a quick model save!"
   ]
  },
  {
   "cell_type": "code",
   "execution_count": null,
   "metadata": {},
   "outputs": [],
   "source": [
    "model.save('mobilenetv3_tuned.h5')"
   ]
  },
  {
   "cell_type": "markdown",
   "metadata": {},
   "source": [
    "### Testing tuned model\n",
    "\n",
    "Note that the model is actually tuned for our dataset.\n",
    "Hence, now is a good timing to have some testing."
   ]
  },
  {
   "cell_type": "code",
   "execution_count": null,
   "metadata": {},
   "outputs": [],
   "source": [
    "loss, accuracy = model.evaluate(validation_generator)\n",
    "\n",
    "print(f'Validation loss: {loss}')\n",
    "print(f'Validation accuracy: {accuracy}')\n",
    "\n",
    "acc = history.history['accuracy']\n",
    "val_acc = history.history['val_accuracy']\n",
    "loss = history.history['loss']\n",
    "val_loss = history.history['val_loss']\n",
    "\n",
    "epochs_range = range(len(acc))\n",
    "\n",
    "plt.figure(figsize=(8, 8))\n",
    "plt.subplot(1, 2, 1)\n",
    "plt.plot(epochs_range, acc, label='Training Accuracy')\n",
    "plt.plot(epochs_range, val_acc, label='Validation Accuracy')\n",
    "plt.legend(loc='lower right')\n",
    "plt.title('Training and Validation Accuracy')\n",
    "\n",
    "plt.subplot(1, 2, 2)\n",
    "plt.plot(epochs_range, loss, label='Training Loss')\n",
    "plt.plot(epochs_range, val_loss, label='Validation Loss')\n",
    "plt.legend(loc='upper right')\n",
    "plt.title('Training and Validation Loss')\n",
    "plt.show()"
   ]
  },
  {
   "cell_type": "markdown",
   "metadata": {},
   "source": [
    "## Fine-tuning\n",
    "\n",
    "This step is optional, but we actually want to do a round of fine-tuning on the whole model.\n",
    "\n",
    "This is done via unfreezing every layer of the model and re-run a training with a small learning rate.\n",
    "\n",
    "> It's important to keep a low learning rate!\n",
    "> The danger is overfitting the model here!"
   ]
  },
  {
   "cell_type": "code",
   "execution_count": null,
   "metadata": {
    "colab": {
     "base_uri": "https://localhost:8080/"
    },
    "id": "7LYGW40dNJjI",
    "outputId": "666300d1-0437-4630-c01d-126479fed99f"
   },
   "outputs": [],
   "source": [
    "# Unfreeze the base model layers\n",
    "for layer in base_model.layers:\n",
    "    layer.trainable = True\n",
    "\n",
    "# Re-compile the model, with a low learning rate (1e-5 here)\n",
    "model.compile(optimizer=Adam(1e-5), loss='binary_crossentropy', metrics=['accuracy'])"
   ]
  },
  {
   "cell_type": "markdown",
   "metadata": {},
   "source": [
    "And now we re-train the model.\n",
    "This is also kind of long to run, same as previously."
   ]
  },
  {
   "cell_type": "code",
   "execution_count": null,
   "metadata": {},
   "outputs": [],
   "source": [
    "history_fine = model.fit(\n",
    "    train_generator,\n",
    "    epochs=1000,\n",
    "    validation_data=validation_generator\n",
    ")"
   ]
  },
  {
   "cell_type": "markdown",
   "metadata": {},
   "source": [
    "And let's re-save our model a second time, but fine-tuned this time.\n",
    "This is the model we'll be using in our beloved Strandbeest."
   ]
  },
  {
   "cell_type": "code",
   "execution_count": null,
   "metadata": {
    "colab": {
     "base_uri": "https://localhost:8080/"
    },
    "id": "I5XNVGcZbR6_",
    "outputId": "1c06be88-932f-46eb-cdc9-97941b3157b0"
   },
   "outputs": [],
   "source": [
    "model.save('mobilenetv3_fine_tuned.h5')"
   ]
  },
  {
   "cell_type": "markdown",
   "metadata": {},
   "source": [
    "### Testing fine-tuned model\n",
    "\n",
    "Now, everything is set to have some little performance tests, using the validation dataset."
   ]
  },
  {
   "cell_type": "code",
   "execution_count": null,
   "metadata": {
    "colab": {
     "base_uri": "https://localhost:8080/"
    },
    "id": "zVkDQ-QlV3Sr",
    "outputId": "7abec03b-5e38-4b47-918a-3130cdf0a684"
   },
   "outputs": [],
   "source": [
    "loss, accuracy = model.evaluate(validation_generator)\n",
    "\n",
    "print(f'Validation loss: {loss}')\n",
    "print(f'Validation accuracy: {accuracy}')\n",
    "\n",
    "acc = history_fine.history['accuracy']\n",
    "val_acc = history_fine.history['val_accuracy']\n",
    "loss = history_fine.history['loss']\n",
    "val_loss = history_fine.history['val_loss']\n",
    "\n",
    "epochs_range = range(len(acc))\n",
    "\n",
    "plt.figure(figsize=(8, 8))\n",
    "plt.subplot(1, 2, 1)\n",
    "plt.plot(epochs_range, acc, label='Training Accuracy')\n",
    "plt.plot(epochs_range, val_acc, label='Validation Accuracy')\n",
    "plt.legend(loc='lower right')\n",
    "plt.title('Training and Validation Accuracy')\n",
    "\n",
    "plt.subplot(1, 2, 2)\n",
    "plt.plot(epochs_range, loss, label='Training Loss')\n",
    "plt.plot(epochs_range, val_loss, label='Validation Loss')\n",
    "plt.legend(loc='upper right')\n",
    "plt.title('Training and Validation Loss')\n",
    "plt.show()"
   ]
  }
 ],
 "metadata": {
  "accelerator": "GPU",
  "colab": {
   "gpuType": "T4",
   "provenance": []
  },
  "kernelspec": {
   "display_name": "Python 3",
   "name": "python3"
  },
  "language_info": {
   "name": "python"
  }
 },
 "nbformat": 4,
 "nbformat_minor": 0
}
